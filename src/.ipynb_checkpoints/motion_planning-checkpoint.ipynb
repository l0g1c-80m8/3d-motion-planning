{
 "cells": [
  {
   "cell_type": "code",
   "execution_count": 1,
   "metadata": {
    "pycharm": {
     "name": "#%%\n"
    }
   },
   "outputs": [],
   "source": [
    "import argparse\n",
    "import time\n",
    "import msgpack\n",
    "from enum import Enum, auto\n",
    "\n",
    "import numpy as np\n",
    "import constants as ct\n",
    "\n",
    "from general_utils import read_line_from_file, parse_lat_lon_alt\n",
    "from planning_utils import a_star, heuristic, create_grid, relative_grid_pose, prune_path, get_grid_goal\n",
    "from udacidrone import Drone\n",
    "from udacidrone.connection import MavlinkConnection\n",
    "from udacidrone.messaging import MsgID\n",
    "from udacidrone.frame_utils import global_to_local\n",
    "\n",
    "import matplotlib.pyplot as plt\n",
    "from mpl_toolkits.mplot3d import Axes3D\n",
    "\n",
    "%matplotlib inline "
   ]
  },
  {
   "cell_type": "code",
   "execution_count": 2,
   "metadata": {
    "pycharm": {
     "name": "#%%\n"
    }
   },
   "outputs": [],
   "source": [
    "class States(Enum):\n",
    "    MANUAL = auto()\n",
    "    ARMING = auto()\n",
    "    TAKEOFF = auto()\n",
    "    WAYPOINT = auto()\n",
    "    LANDING = auto()\n",
    "    DISARMING = auto()\n",
    "    PLANNING = auto()\n"
   ]
  },
  {
   "cell_type": "code",
   "execution_count": 3,
   "metadata": {},
   "outputs": [],
   "source": [
    "def plot_final_grid(grid, path, pruned_path, start, goal):\n",
    "    fig = plt.figure(figsize=(100, 100))\n",
    "\n",
    "    plt.imshow(grid, cmap='Greys', origin='lower')\n",
    "\n",
    "    for idx in range(len(pruned_path) - 1):\n",
    "       plt.plot([pruned_path[idx][1], pruned_path[idx + 1][1]], [pruned_path[idx][0], pruned_path[idx + 1][0]], 'black' , alpha=0.5, linewidth=10)\n",
    "\n",
    "    for point in path:\n",
    "       plt.scatter(point[1], point[0], c='yellow', s=40)\n",
    "\n",
    "    for point in pruned_path:\n",
    "       plt.scatter(point[1], point[0], c='red', s=400)\n",
    "    \n",
    "    plt.scatter(start[1], start[0], c='blue', s=400)\n",
    "    plt.scatter(goal[1], goal[0], c='blue', s=400)\n",
    "    \n",
    "    plt.xlabel('NORTH')\n",
    "    plt.ylabel('EAST')\n",
    "\n",
    "    plt.show()\n"
   ]
  },
  {
   "cell_type": "code",
   "execution_count": 4,
   "metadata": {
    "pycharm": {
     "name": "#%%\n"
    }
   },
   "outputs": [],
   "source": [
    "class MotionPlanning(Drone):\n",
    "\n",
    "    def __init__(self, connection):\n",
    "        super().__init__(connection)\n",
    "\n",
    "        self.target_position = np.array([0.0, 0.0, 0.0])\n",
    "        self.waypoints = []\n",
    "        self.in_mission = True\n",
    "        self.check_state = {}\n",
    "\n",
    "        # initial state\n",
    "        self.flight_state = States.MANUAL\n",
    "\n",
    "        # register all your callbacks here\n",
    "        self.register_callback(MsgID.LOCAL_POSITION, self.local_position_callback)\n",
    "        self.register_callback(MsgID.LOCAL_VELOCITY, self.velocity_callback)\n",
    "        self.register_callback(MsgID.STATE, self.state_callback)\n",
    "\n",
    "    def local_position_callback(self):\n",
    "        if self.flight_state == States.TAKEOFF:\n",
    "            if -1.0 * self.local_position[2] > 0.95 * self.target_position[2]:\n",
    "                self.waypoint_transition()\n",
    "        elif self.flight_state == States.WAYPOINT:\n",
    "            if np.linalg.norm(self.target_position[0:2] - self.local_position[0:2]) < 1.0:\n",
    "                if len(self.waypoints) > 0:\n",
    "                    self.waypoint_transition()\n",
    "                else:\n",
    "                    if np.linalg.norm(self.local_velocity[0:2]) < 1.0:\n",
    "                        self.landing_transition()\n",
    "\n",
    "    def velocity_callback(self):\n",
    "        if self.flight_state == States.LANDING:\n",
    "            if self.global_position[2] - self.global_home[2] < 0.1:\n",
    "                if abs(self.local_position[2]) < 0.01:\n",
    "                    self.disarming_transition()\n",
    "\n",
    "    def state_callback(self):\n",
    "        if self.in_mission:\n",
    "            if self.flight_state == States.MANUAL:\n",
    "                self.arming_transition()\n",
    "            elif self.flight_state == States.ARMING:\n",
    "                if self.armed:\n",
    "                    self.plan_path()\n",
    "            elif self.flight_state == States.PLANNING:\n",
    "                self.takeoff_transition()\n",
    "            elif self.flight_state == States.DISARMING:\n",
    "                if ~self.armed & ~self.guided:\n",
    "                    self.manual_transition()\n",
    "\n",
    "    def arming_transition(self):\n",
    "        self.flight_state = States.ARMING\n",
    "        print(\"arming transition\")\n",
    "        self.arm()\n",
    "        self.take_control()\n",
    "\n",
    "    def takeoff_transition(self):\n",
    "        self.flight_state = States.TAKEOFF\n",
    "        print(\"takeoff transition\")\n",
    "        self.takeoff(self.target_position[2])\n",
    "\n",
    "    def waypoint_transition(self):\n",
    "        self.flight_state = States.WAYPOINT\n",
    "        print(\"waypoint transition\")\n",
    "        self.target_position = self.waypoints.pop(0)\n",
    "        print('target position', self.target_position)\n",
    "        self.cmd_position(self.target_position[0], self.target_position[1], self.target_position[2], self.target_position[3])\n",
    "\n",
    "    def landing_transition(self):\n",
    "        self.flight_state = States.LANDING\n",
    "        print(\"landing transition\")\n",
    "        self.land()\n",
    "\n",
    "    def disarming_transition(self):\n",
    "        self.flight_state = States.DISARMING\n",
    "        print(\"disarm transition\")\n",
    "        self.disarm()\n",
    "        self.release_control()\n",
    "\n",
    "    def manual_transition(self):\n",
    "        self.flight_state = States.MANUAL\n",
    "        print(\"manual transition\")\n",
    "        self.stop()\n",
    "        self.in_mission = False\n",
    "\n",
    "    def send_waypoints(self):\n",
    "        print(\"Sending waypoints to simulator ...\")\n",
    "        data = msgpack.dumps(self.waypoints)\n",
    "        self.connection._master.write(data)\n",
    "\n",
    "    def plan_path(self):\n",
    "        self.flight_state = States.PLANNING\n",
    "        print(\"Searching for a path ...\")\n",
    "        TARGET_ALTITUDE = 5\n",
    "        SAFETY_DISTANCE = 5\n",
    "\n",
    "        self.target_position[2] = TARGET_ALTITUDE\n",
    "\n",
    "        # read lat0, lon0 from colliders into floating point values\n",
    "        lon0, lat0, alt0 = parse_lat_lon_alt(read_line_from_file(ct.COLLIDERS_FILE))\n",
    "\n",
    "        # set home position to (lon0, lat0, 0)\n",
    "        self.set_home_position(lon0, lat0, alt0)\n",
    "\n",
    "        # retrieve current global position\n",
    "        # convert to current local position using global_to_local()\n",
    "        current_local_position = global_to_local(self.global_position, self.global_home)\n",
    "\n",
    "        print('global home {0}, position {1}, local position {2}'.format(self.global_home, self.global_position,\n",
    "                                                                         self.local_position))\n",
    "        # Read in obstacle map\n",
    "        data = np.loadtxt(ct.COLLIDERS_FILE, delimiter=',', dtype='Float64', skiprows=2)\n",
    "\n",
    "        # Define a grid for a particular altitude and safety margin around obstacles\n",
    "        grid, north_offset, east_offset = create_grid(data, TARGET_ALTITUDE, SAFETY_DISTANCE)\n",
    "        print(\"North offset = {0}, east offset = {1}\".format(north_offset, east_offset))\n",
    "        # Define starting point on the grid (this is just grid center)\n",
    "        # convert start position to current position\n",
    "        grid_start = relative_grid_pose(current_local_position, north_offset, east_offset)\n",
    "\n",
    "        # Set goal as some arbitrary position on the grid\n",
    "        # set goal as latitude / longitude position and convert\n",
    "        # near goal (grid_start[0] + 15, grid_start[1] + 25)\n",
    "        # medium goal (grid_start[0] + 120, grid_start[1] - 100)\n",
    "        # far goal (grid_start[0] + 420, grid_start[1] - 250)\n",
    "        # grid_goal = relative_grid_pose((current_local_position[0] + 120, current_local_position[1] - 100), north_offset, east_offset)\n",
    "        # grid_goal = relative_grid_pose((current_local_position[0] + 15, current_local_position[1] + 25), north_offset, east_offset)\n",
    "        grid_goal = relative_grid_pose((current_local_position[0] + 420, current_local_position[1] - 250), north_offset, east_offset)\n",
    "        \n",
    "        \n",
    "        # Run A* to find a path from start to goal\n",
    "        # add diagonal motions with a cost of sqrt(2) to your A* implementation\n",
    "        # or move to a different search space such as a graph (not done here)\n",
    "        print('Local Start and Goal: ', grid_start, grid_goal)\n",
    "#         path, _ = a_star(grid, heuristic, grid_start, grid_goal)\n",
    "        prune path to minimize number of waypoints\n",
    "        # (if you're feeling ambitious): Try a different approach altogether!\n",
    "#         pruned_path = prune_path(path, grid)\n",
    "#         pruned_path = [(316, 445), (395, 426), (460, 361), (454, 355), (454, 295), (456, 294), (518, 284), (564, 274), (605, 256), (655, 256), (685, 246), (710, 219), (735, 196)]\n",
    "        \n",
    "        # Convert path to waypoints\n",
    "        waypoints = [[p[0] + north_offset, p[1] + east_offset, TARGET_ALTITUDE, 0] for p in pruned_path]\n",
    "        # Set self.waypoints\n",
    "        self.waypoints = waypoints\n",
    "        # send waypoints to sim (this is just for visualization of waypoints)\n",
    "        self.send_waypoints()\n",
    "        \n",
    "#         plot_final_grid(grid, path, pruned_path, grid_start, grid_goal)\n",
    "\n",
    "    def start(self):\n",
    "        self.start_log(\"Logs\", \"NavLog.txt\")\n",
    "\n",
    "        print(\"starting connection\")\n",
    "        self.connection.start()\n",
    "\n",
    "        # Only required if they do threaded\n",
    "        # while self.in_mission:\n",
    "        #    pass\n",
    "\n",
    "        self.stop_log()\n"
   ]
  },
  {
   "cell_type": "code",
   "execution_count": 5,
   "metadata": {
    "pycharm": {
     "is_executing": true,
     "name": "#%%\n"
    }
   },
   "outputs": [
    {
     "name": "stderr",
     "output_type": "stream",
     "text": [
      "No traceback available to show.\n"
     ]
    }
   ],
   "source": [
    "%tb"
   ]
  },
  {
   "cell_type": "code",
   "execution_count": 6,
   "metadata": {
    "pycharm": {
     "name": "#%%\n"
    }
   },
   "outputs": [],
   "source": [
    "conn = MavlinkConnection('tcp:127.0.0.1:5760', timeout=600)"
   ]
  },
  {
   "cell_type": "code",
   "execution_count": 7,
   "metadata": {
    "pycharm": {
     "name": "#%%\n"
    }
   },
   "outputs": [
    {
     "name": "stdout",
     "output_type": "stream",
     "text": [
      "Logs/TLog.txt\n"
     ]
    }
   ],
   "source": [
    "drone = MotionPlanning(conn)"
   ]
  },
  {
   "cell_type": "code",
   "execution_count": 8,
   "metadata": {
    "pycharm": {
     "name": "#%%\n"
    }
   },
   "outputs": [],
   "source": [
    "time.sleep(1)"
   ]
  },
  {
   "cell_type": "code",
   "execution_count": 9,
   "metadata": {
    "pycharm": {
     "name": "#%%\n"
    }
   },
   "outputs": [
    {
     "name": "stdout",
     "output_type": "stream",
     "text": [
      "Logs/NavLog.txt\n",
      "starting connection\n",
      "arming transition\n",
      "Searching for a path ...\n",
      "global home [-122.39745   37.79248    0.     ], position [-1.22397450e+02  3.77924799e+01 -1.50000000e-02], local position [-0.00185173  0.00034373  0.01539233]\n",
      "North offset = -316, east offset = -445\n",
      "Local Start and Goal:  (316, 445) (735, 196)\n",
      "Sending waypoints to simulator ...\n",
      "takeoff transition\n",
      "waypoint transition\n",
      "target position [0, 0, 5, 0]\n",
      "waypoint transition\n",
      "target position [79, -19, 5, 0]\n",
      "waypoint transition\n",
      "target position [144, -84, 5, 0]\n",
      "waypoint transition\n",
      "target position [138, -90, 5, 0]\n",
      "waypoint transition\n",
      "target position [138, -150, 5, 0]\n",
      "waypoint transition\n",
      "target position [140, -151, 5, 0]\n",
      "waypoint transition\n",
      "target position [202, -161, 5, 0]\n",
      "waypoint transition\n",
      "target position [248, -171, 5, 0]\n",
      "waypoint transition\n",
      "target position [289, -189, 5, 0]\n",
      "waypoint transition\n",
      "target position [339, -189, 5, 0]\n",
      "waypoint transition\n",
      "target position [369, -199, 5, 0]\n",
      "waypoint transition\n",
      "target position [394, -226, 5, 0]\n",
      "waypoint transition\n",
      "target position [419, -249, 5, 0]\n",
      "landing transition\n",
      "disarm transition\n",
      "manual transition\n",
      "Closing connection ...\n"
     ]
    }
   ],
   "source": [
    "drone.start()"
   ]
  },
  {
   "cell_type": "code",
   "execution_count": null,
   "metadata": {
    "pycharm": {
     "name": "#%%\n"
    }
   },
   "outputs": [],
   "source": []
  }
 ],
 "metadata": {
  "kernelspec": {
   "display_name": "Python 3",
   "language": "python",
   "name": "python3"
  },
  "language_info": {
   "codemirror_mode": {
    "name": "ipython",
    "version": 3
   },
   "file_extension": ".py",
   "mimetype": "text/x-python",
   "name": "python",
   "nbconvert_exporter": "python",
   "pygments_lexer": "ipython3",
   "version": "3.6.3"
  }
 },
 "nbformat": 4,
 "nbformat_minor": 2
}
