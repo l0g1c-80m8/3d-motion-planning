{
 "cells": [
  {
   "cell_type": "code",
   "execution_count": 1,
   "metadata": {},
   "outputs": [],
   "source": [
    "import numpy as np\n",
    "import constants as ct\n",
    "\n",
    "from planning_utils import create_grid, prune_path\n",
    "\n",
    "import matplotlib.pyplot as plt\n",
    "from mpl_toolkits.mplot3d import Axes3D\n",
    "\n",
    "%matplotlib inline"
   ]
  },
  {
   "cell_type": "code",
   "execution_count": 2,
   "metadata": {},
   "outputs": [],
   "source": [
    "def plot_final_grid(grid, path, pruned_path, start, goal):\n",
    "    fig = plt.figure(figsize=(20, 20))\n",
    "\n",
    "    plt.imshow(grid, cmap='Greys', origin='lower', extent=[0, grid.shape[0], -0.5, grid.shape[1] - 0.5])\n",
    "\n",
    "    for idx in range(len(pruned_path) - 1):\n",
    "       plt.plot([pruned_path[idx][1], pruned_path[idx + 1][1]], [pruned_path[idx][0], pruned_path[idx + 1][0]], 'black' , alpha=0.5, linewidth=10)\n",
    "\n",
    "    for point in path:\n",
    "       plt.scatter(point[1], point[0], c='yellow', s=200)\n",
    "\n",
    "    for point in pruned_path:\n",
    "       plt.scatter(point[1], point[0], c='red', s=400)\n",
    "    \n",
    "    plt.scatter(start[1], start[0], c='blue', s=400)\n",
    "    plt.scatter(goal[1], goal[0], c='blue', s=400)\n",
    "    \n",
    "    plt.xlabel('NORTH')\n",
    "    plt.ylabel('EAST')\n",
    "\n",
    "    plt.show()\n"
   ]
  },
  {
   "cell_type": "code",
   "execution_count": 3,
   "metadata": {},
   "outputs": [],
   "source": [
    "# TARGET_ALTITUDE = 5\n",
    "# SAFETY_DISTANCE = 5\n",
    "# source = (10, 700)\n",
    "# target = (800, 150)\n",
    "# terminal_states = [target]\n",
    "# delta = 10\n",
    "\n",
    "# # Read in obstacle map\n",
    "# data = np.loadtxt(ct.COLLIDERS_FILE, delimiter=',', dtype='Float64', skiprows=2)\n",
    "# grid, north_offset, east_offset = create_grid(data, TARGET_ALTITUDE, SAFETY_DISTANCE)\n",
    "\n",
    "# # Transform grid to MDP representation\n",
    "# grid[grid == 1] = None\n",
    "# grid[grid == 0] = -0.02\n",
    "# grid[target] = 1\n",
    "# grid"
   ]
  },
  {
   "cell_type": "code",
   "execution_count": 4,
   "metadata": {},
   "outputs": [
    {
     "data": {
      "text/plain": [
       "array([[-2., -2., -2., -2., nan, nan, -2., -2., -2., -2.],\n",
       "       [-2., -2., -2., -2., nan, nan, -2., -2., -2., -2.],\n",
       "       [-2., -2., -2., -2., nan, nan, -2., -2., -2., -2.],\n",
       "       [-2., -2., -2., -2., nan, nan, -2., -2., -2., -2.],\n",
       "       [-2., -2., -2., -2., nan, nan, -2., -2., -2., -2.],\n",
       "       [-2., -2., -2., -2., nan, nan, -2., -2., -2., -2.],\n",
       "       [-2., -2., -2., -2., -2., -2., -2., -2., -2., -2.],\n",
       "       [-2., -2., -2., -2., -2., -2., -2., -2., -2., -2.],\n",
       "       [-2., -2., -2., -2., -2., -2., -2., -2., 10., -2.],\n",
       "       [-2., -2., -2., -2., -2., -2., -2., -2., -2., -2.]])"
      ]
     },
     "execution_count": 4,
     "metadata": {},
     "output_type": "execute_result"
    }
   ],
   "source": [
    "grid = np.full((10, 10), -2.0)\n",
    "source = (0, 0)\n",
    "target = (8, 8)\n",
    "grid[0 : 6, 4 : 6] = None\n",
    "grid[target] = 10\n",
    "grid"
   ]
  },
  {
   "cell_type": "code",
   "execution_count": 5,
   "metadata": {},
   "outputs": [
    {
     "name": "stdout",
     "output_type": "stream",
     "text": [
      "States:\n",
      " {(7, 3), (6, 9), (0, 7), (1, 6), (3, 7), (8, 5), (5, 8), (4, 0), (9, 0), (6, 7), (7, 6), (1, 1), (3, 2), (2, 6), (8, 2), (9, 3), (6, 0), (7, 5), (0, 1), (3, 1), (9, 9), (7, 8), (2, 1), (8, 9), (9, 4), (5, 1), (7, 2), (3, 6), (2, 2), (8, 6), (4, 1), (9, 7), (6, 4), (7, 1), (1, 0), (0, 8), (2, 7), (8, 3), (4, 6), (9, 2), (6, 1), (5, 7), (7, 4), (0, 2), (1, 3), (4, 8), (3, 0), (2, 8), (9, 8), (8, 0), (6, 2), (5, 0), (3, 9), (2, 3), (1, 9), (8, 7), (4, 2), (9, 6), (6, 5), (5, 3), (7, 0), (6, 8), (0, 6), (1, 7), (0, 9), (8, 4), (5, 9), (4, 7), (9, 1), (6, 6), (5, 6), (7, 7), (0, 3), (1, 2), (4, 9), (3, 3), (2, 9), (8, 1), (6, 3), (0, 0), (7, 9), (3, 8), (2, 0), (1, 8), (8, 8), (4, 3), (9, 5), (5, 2)} 88\n",
      "Rewards:\n",
      " {(0, 0): -2.0, (0, 1): -2.0, (0, 2): -2.0, (0, 3): -2.0, (0, 4): nan, (0, 5): nan, (0, 6): -2.0, (0, 7): -2.0, (0, 8): -2.0, (0, 9): -2.0, (1, 0): -2.0, (1, 1): -2.0, (1, 2): -2.0, (1, 3): -2.0, (1, 4): nan, (1, 5): nan, (1, 6): -2.0, (1, 7): -2.0, (1, 8): -2.0, (1, 9): -2.0, (2, 0): -2.0, (2, 1): -2.0, (2, 2): -2.0, (2, 3): -2.0, (2, 4): nan, (2, 5): nan, (2, 6): -2.0, (2, 7): -2.0, (2, 8): -2.0, (2, 9): -2.0, (3, 0): -2.0, (3, 1): -2.0, (3, 2): -2.0, (3, 3): -2.0, (3, 4): nan, (3, 5): nan, (3, 6): -2.0, (3, 7): -2.0, (3, 8): -2.0, (3, 9): -2.0, (4, 0): -2.0, (4, 1): -2.0, (4, 2): -2.0, (4, 3): -2.0, (4, 4): nan, (4, 5): nan, (4, 6): -2.0, (4, 7): -2.0, (4, 8): -2.0, (4, 9): -2.0, (5, 0): -2.0, (5, 1): -2.0, (5, 2): -2.0, (5, 3): -2.0, (5, 4): nan, (5, 5): nan, (5, 6): -2.0, (5, 7): -2.0, (5, 8): -2.0, (5, 9): -2.0, (6, 0): -2.0, (6, 1): -2.0, (6, 2): -2.0, (6, 3): -2.0, (6, 4): -2.0, (6, 5): -2.0, (6, 6): -2.0, (6, 7): -2.0, (6, 8): -2.0, (6, 9): -2.0, (7, 0): -2.0, (7, 1): -2.0, (7, 2): -2.0, (7, 3): -2.0, (7, 4): -2.0, (7, 5): -2.0, (7, 6): -2.0, (7, 7): -2.0, (7, 8): -2.0, (7, 9): -2.0, (8, 0): -2.0, (8, 1): -2.0, (8, 2): -2.0, (8, 3): -2.0, (8, 4): -2.0, (8, 5): -2.0, (8, 6): -2.0, (8, 7): -2.0, (8, 8): 10.0, (8, 9): -2.0, (9, 0): -2.0, (9, 1): -2.0, (9, 2): -2.0, (9, 3): -2.0, (9, 4): -2.0, (9, 5): -2.0, (9, 6): -2.0, (9, 7): -2.0, (9, 8): -2.0, (9, 9): -2.0} 100\n"
     ]
    }
   ],
   "source": [
    "# Extract states, rewards from grid\n",
    "states = set()\n",
    "rewards = dict()\n",
    "optimal_policy = dict()\n",
    "\n",
    "numRows, numCols = grid.shape\n",
    "for rowNum in range(numRows):\n",
    "    for colNum in range(numCols):\n",
    "        rewards[rowNum, colNum] = grid[rowNum, colNum]\n",
    "        if not np.isnan(grid[rowNum, colNum]):\n",
    "                    states.add((rowNum, colNum))\n",
    "                \n",
    "print('States:\\n', states, len(states))\n",
    "print('Rewards:\\n', rewards, len(rewards))"
   ]
  },
  {
   "cell_type": "code",
   "execution_count": 6,
   "metadata": {},
   "outputs": [],
   "source": [
    "# (0, 1) -> next col, (0, -1) -> prev col, (-1, 0) -> prev row, (1, 0) -> next row\n",
    "possible_actions = [(0, 1), (0, -1), (-1, 0), (1, 0)]\n",
    "\n",
    "def valid_actions(state):\n",
    "    actions = []\n",
    "    for action in possible_actions:\n",
    "        new_state = (state[0] + action[0], state[1] + action[1])\n",
    "        if new_state in states:\n",
    "            actions.append(action)\n",
    "    return actions\n",
    "\n",
    "def transition(state, action):\n",
    "    return [ \\\n",
    "        (0.8 if valid_action == action else 0.2 / 3.0, \\\n",
    "         (state[0] + valid_action[0], state[1] + valid_action[1]) \\\n",
    "        ) for valid_action in valid_actions(state)]"
   ]
  },
  {
   "cell_type": "code",
   "execution_count": 7,
   "metadata": {},
   "outputs": [],
   "source": [
    "def value_iteration(discount_factor=0.9, epsilon=0.001):\n",
    "    utilities = np.zeros((numRows, numCols))\n",
    "    itr = 0\n",
    "    while True:\n",
    "        itr += 1\n",
    "        prev_utilities = utilities.copy()\n",
    "        delta = 0.0\n",
    "        for state in states:\n",
    "            utility_row_sums = [sum([prob * prev_utilities[new_state] \\\n",
    "                                     for prob, new_state in transition(state, action)]) \\\n",
    "                                for action in valid_actions(state)]\n",
    "            utilities[state] = rewards[state] + discount_factor * max(utility_row_sums)\n",
    "            \n",
    "        delta = max(delta, abs(utilities[state] - prev_utilities[state]))\n",
    "        print(itr, delta, epsilon * (1 - discount_factor) / discount_factor)\n",
    "\n",
    "        if delta < epsilon * (1 - discount_factor) / discount_factor:\n",
    "            return utilities"
   ]
  },
  {
   "cell_type": "code",
   "execution_count": 8,
   "metadata": {},
   "outputs": [
    {
     "name": "stdout",
     "output_type": "stream",
     "text": [
      "1 2.0 0.00011111111111111109\n",
      "2 1.7999999999999998 0.00011111111111111109\n",
      "3 1.5336000000000007 0.00011111111111111109\n",
      "4 1.307664 0.00011111111111111109\n",
      "5 1.1059804800000013 0.00011111111111111109\n",
      "6 0.9368944703999977 0.00011111111111111109\n",
      "7 0.7918670522880014 0.00011111111111111109\n",
      "8 0.6480537883545612 0.00011111111111111109\n",
      "9 0.5460885787898864 0.00011111111111111109\n",
      "10 0.07650958866175728 0.00011111111111111109\n",
      "11 0.4892039467571383 0.00011111111111111109\n",
      "12 0.9281272857642495 0.00011111111111111109\n",
      "13 0.40232676647684684 0.00011111111111111109\n",
      "14 1.0969933497496083 0.00011111111111111109\n",
      "15 0.3240465127983718 0.00011111111111111109\n",
      "16 1.0197679533411375 0.00011111111111111109\n",
      "17 0.25749301574590433 0.00011111111111111109\n",
      "18 0.863224069833155 0.00011111111111111109\n",
      "19 0.20485700140038432 0.00011111111111111109\n",
      "20 0.7060069602319592 0.00011111111111111109\n",
      "21 0.1633196600173905 0.00011111111111111109\n",
      "22 0.5694185732857386 0.00011111111111111109\n",
      "23 0.13028519466930888 0.00011111111111111109\n",
      "24 0.4564755775354614 0.00011111111111111109\n",
      "25 0.10397683261478363 0.00011111111111111109\n",
      "26 0.36503922247880993 0.00011111111111111109\n",
      "27 0.08299791146606417 0.00011111111111111109\n",
      "28 0.2916275089952505 0.00011111111111111109\n",
      "29 0.06625671927656374 0.00011111111111111109\n",
      "30 0.2328821729964048 0.00011111111111111109\n",
      "31 0.05289356761826802 0.00011111111111111109\n",
      "32 0.18594139451426894 0.00011111111111111109\n",
      "33 0.0422294977949651 0.00011111111111111109\n",
      "34 0.14847992360414342 0.00011111111111111109\n",
      "35 0.033723075638198985 0.00011111111111111109\n",
      "36 0.11858534003559296 0.00011111111111111109\n",
      "37 0.026934431331744335 0.00011111111111111109\n",
      "38 0.09471859684800421 0.00011111111111111109\n",
      "39 0.021513901519857548 0.00011111111111111109\n",
      "40 0.07565786150862852 0.00011111111111111109\n",
      "41 0.017184594351045135 0.00011111111111111109\n",
      "42 0.06043319881742626 0.00011111111111111109\n",
      "43 0.01372651746020015 0.00011111111111111109\n",
      "44 0.048272136371205754 0.00011111111111111109\n",
      "45 0.010964295203783614 0.00011111111111111109\n",
      "46 0.038558182203566105 0.00011111111111111109\n",
      "47 0.00875790784442465 0.00011111111111111109\n",
      "48 0.03079895530535115 0.00011111111111111109\n",
      "49 0.006995513596558922 0.00011111111111111109\n",
      "50 0.024601132813502957 0.00011111111111111109\n",
      "51 0.005587771396466934 0.00011111111111111109\n",
      "52 0.019650521349745986 0.00011111111111111109\n",
      "53 0.004463315217208219 0.00011111111111111109\n",
      "54 0.01569614430493438 0.00011111111111111109\n",
      "55 0.0035651388360351532 0.00011111111111111109\n",
      "56 0.012537526394031495 0.00011111111111111109\n",
      "57 0.0028477070936165916 0.00011111111111111109\n",
      "58 0.010014533556207184 0.00011111111111111109\n",
      "59 0.002274647896903126 0.00011111111111111109\n",
      "60 0.007999255841354191 0.00011111111111111109\n",
      "61 0.0018169084283208292 0.00011111111111111109\n",
      "62 0.00638952312372254 0.00011111111111111109\n",
      "63 0.0014512822984134033 0.00011111111111111109\n",
      "64 0.005103725584780783 0.00011111111111111109\n",
      "65 0.001159233182286279 0.00011111111111111109\n",
      "66 0.004076678419012936 0.00011111111111111109\n",
      "67 0.000925955317136129 0.00011111111111111109\n",
      "68 0.0032563091925705834 0.00011111111111111109\n",
      "69 0.0007396209097247919 0.00011111111111111109\n",
      "70 0.0026010260030568944 0.00011111111111111109\n",
      "71 0.0005907832790104095 0.00011111111111111109\n",
      "72 0.002077608201263459 0.00011111111111111109\n",
      "73 0.00047189690105486903 0.00011111111111111109\n",
      "74 0.0016595202389915187 0.00011111111111111109\n",
      "75 0.00037693460890864117 0.00011111111111111109\n",
      "76 0.0013255662259501477 0.00011111111111111109\n",
      "77 0.0003010820649445023 0.00011111111111111109\n",
      "78 0.0010588155137618571 0.00011111111111111109\n",
      "79 0.00024049372505530187 0.00011111111111111109\n",
      "80 0.000845744451023478 0.00011111111111111109\n",
      "81 0.00019209789651597475 0.00011111111111111109\n",
      "82 0.0006755508055276138 0.00011111111111111109\n",
      "83 0.0001534410169048428 0.00011111111111111109\n",
      "84 0.0005396061297924248 0.00011111111111111109\n",
      "85 0.0001225632662604781 0.00011111111111111109\n",
      "86 0.0004310183226925446 0.00011111111111111109\n",
      "87 9.789920929836882e-05 0.00011111111111111109\n"
     ]
    },
    {
     "data": {
      "text/plain": [
       "array([[-10.04377792, -10.29557884,  -9.74233171,  -9.03777121,\n",
       "          0.        ,   0.        ,  -5.74912549,  -5.34814996,\n",
       "         -4.62592272,  -4.92928901],\n",
       "       [-10.51671477, -11.30472197, -10.290884  ,  -8.96252384,\n",
       "          0.        ,   0.        ,  -4.76153457,  -3.78511754,\n",
       "         -2.79078741,  -3.68261002],\n",
       "       [-10.11242644, -10.77682545,  -9.57991466,  -8.05953861,\n",
       "          0.        ,   0.        ,  -3.04052239,  -1.40443099,\n",
       "         -0.08996873,  -1.69371966],\n",
       "       [ -9.49288762,  -9.89974809,  -8.55089353,  -6.87044697,\n",
       "          0.        ,   0.        ,  -0.93145305,   1.40404332,\n",
       "          3.14342537,   0.74018953],\n",
       "       [ -8.73871663,  -8.78328837,  -7.25161461,  -5.38041016,\n",
       "          0.        ,   0.        ,   1.6209386 ,   4.66039798,\n",
       "          6.9730177 ,   3.68489807],\n",
       "       [ -7.83642093,  -7.391629  ,  -5.62915635,  -3.51773721,\n",
       "          0.        ,   0.        ,   4.7182085 ,   8.41796064,\n",
       "         11.50498759,   7.25338958],\n",
       "       [ -6.76149196,  -5.69236284,  -3.6241109 ,  -1.19062482,\n",
       "          1.60452615,   4.71721068,   8.4948056 ,  12.72894369,\n",
       "         16.87046438,  11.58598074],\n",
       "       [ -5.48590837,  -3.89069068,  -1.46107596,   1.38325744,\n",
       "          4.65799407,   8.41774519,  12.72893058,  17.64217317,\n",
       "         23.22384114,  16.74036888],\n",
       "       [ -4.64241263,  -2.80205949,  -0.09535458,   3.14164673,\n",
       "          6.97274194,  11.50495562,  16.87046138,  23.22384094,\n",
       "         30.7625954 ,  22.0658005 ],\n",
       "       [ -4.93110674,  -3.68376007,  -1.69422619,   0.74003079,\n",
       "          3.68486802,   7.25338405,  11.58597823,  16.74036858,\n",
       "         22.06580048,  15.21140751]])"
      ]
     },
     "execution_count": 8,
     "metadata": {},
     "output_type": "execute_result"
    }
   ],
   "source": [
    "final_utilities = value_iteration()\n",
    "final_utilities"
   ]
  },
  {
   "cell_type": "code",
   "execution_count": 9,
   "metadata": {},
   "outputs": [
    {
     "data": {
      "text/plain": [
       "array([[(0, 1), (0, 1), (0, 1), (1, 0), 0, 0, (1, 0), (1, 0), (1, 0),\n",
       "        (1, 0)],\n",
       "       [(-1, 0), (0, 1), (0, 1), (1, 0), 0, 0, (1, 0), (1, 0), (1, 0),\n",
       "        (1, 0)],\n",
       "       [(1, 0), (0, 1), (0, 1), (1, 0), 0, 0, (1, 0), (1, 0), (1, 0),\n",
       "        (1, 0)],\n",
       "       [(1, 0), (0, 1), (0, 1), (1, 0), 0, 0, (1, 0), (1, 0), (1, 0),\n",
       "        (1, 0)],\n",
       "       [(1, 0), (0, 1), (0, 1), (1, 0), 0, 0, (1, 0), (1, 0), (1, 0),\n",
       "        (1, 0)],\n",
       "       [(1, 0), (0, 1), (0, 1), (1, 0), 0, 0, (1, 0), (1, 0), (1, 0),\n",
       "        (1, 0)],\n",
       "       [(1, 0), (0, 1), (0, 1), (0, 1), (0, 1), (0, 1), (0, 1), (1, 0),\n",
       "        (1, 0), (0, -1)],\n",
       "       [(0, 1), (0, 1), (0, 1), (0, 1), (0, 1), (0, 1), (0, 1), (0, 1),\n",
       "        (1, 0), (0, -1)],\n",
       "       [(0, 1), (0, 1), (0, 1), (0, 1), (0, 1), (0, 1), (0, 1), (0, 1),\n",
       "        0, (0, -1)],\n",
       "       [(0, 1), (0, 1), (0, 1), (0, 1), (0, 1), (0, 1), (-1, 0), (-1, 0),\n",
       "        (-1, 0), (-1, 0)]], dtype=object)"
      ]
     },
     "execution_count": 9,
     "metadata": {},
     "output_type": "execute_result"
    }
   ],
   "source": [
    "def get_state_action_utility(action, state):\n",
    "    return sum([prob * final_utilities[new_state] for prob, new_state in transition(state, action)])\n",
    "\n",
    "for state in states:\n",
    "    if state == target:\n",
    "        continue\n",
    "    valid_actions_for_state = valid_actions(state)\n",
    "    state_action_utils = [get_state_action_utility(action, state) for action in valid_actions_for_state]\n",
    "    max_action_util_index = state_action_utils.index(max(state_action_utils))\n",
    "    optimal_policy[state] = valid_actions_for_state[max_action_util_index]\n",
    "    \n",
    "# action -> meaning: (0, 1) -> next col, (0, -1) -> prev col, (-1, 0) -> prev row, (1, 0) -> next row\n",
    "# state, action pairs\n",
    "\n",
    "optimal_policy_grid = np.zeros((numRows, numCols), dtype=object)\n",
    "for optimal_policy_state in optimal_policy:\n",
    "    optimal_policy_grid[optimal_policy_state] = optimal_policy[optimal_policy_state]\n",
    "optimal_policy_grid"
   ]
  },
  {
   "cell_type": "code",
   "execution_count": 10,
   "metadata": {},
   "outputs": [
    {
     "name": "stdout",
     "output_type": "stream",
     "text": [
      "[(0, 0), (0, 1), (0, 2), (0, 3), (1, 3), (2, 3), (3, 3), (4, 3), (5, 3), (6, 3), (6, 4), (6, 5), (6, 6), (6, 7), (7, 7), (7, 8), (8, 8)]\n"
     ]
    },
    {
     "data": {
      "text/plain": [
       "[(0, 0), (6, 4), (8, 8)]"
      ]
     },
     "execution_count": 10,
     "metadata": {},
     "output_type": "execute_result"
    }
   ],
   "source": [
    "curr_state = source\n",
    "path = [curr_state]\n",
    "while curr_state != target:\n",
    "    action = optimal_policy[curr_state]\n",
    "    curr_state = (curr_state[0] + action[0], curr_state[1] + action[1])\n",
    "    \n",
    "    path.append(curr_state)\n",
    "\n",
    "print(path)\n",
    "\n",
    "# Transform grid back to original rep\n",
    "grid[np.isnan(grid)] = 1\n",
    "grid[grid == -2.0] = 0\n",
    "grid[target] = 0\n",
    "pruned_path = prune_path(path, grid)\n",
    "pruned_path"
   ]
  },
  {
   "cell_type": "code",
   "execution_count": 11,
   "metadata": {},
   "outputs": [
    {
     "data": {
      "image/png": "[encoded data removed]",
      "text/plain": [
       "<matplotlib.figure.Figure at 0x7efff3970828>"
      ]
     },
     "metadata": {
      "needs_background": "light"
     },
     "output_type": "display_data"
    }
   ],
   "source": [
    "plot_final_grid(grid, path, pruned_path, source, target)"
   ]
  },
  {
   "cell_type": "code",
   "execution_count": 12,
   "metadata": {},
   "outputs": [
    {
     "data": {
      "text/plain": [
       "(10, 10)"
      ]
     },
     "execution_count": 12,
     "metadata": {},
     "output_type": "execute_result"
    }
   ],
   "source": [
    "grid.shape"
   ]
  }
 ],
 "metadata": {
  "kernelspec": {
   "display_name": "Python 3",
   "language": "python",
   "name": "python3"
  },
  "language_info": {
   "codemirror_mode": {
    "name": "ipython",
    "version": 3
   },
   "file_extension": ".py",
   "mimetype": "text/x-python",
   "name": "python",
   "nbconvert_exporter": "python",
   "pygments_lexer": "ipython3",
   "version": "3.6.3"
  }
 },
 "nbformat": 4,
 "nbformat_minor": 1
}
