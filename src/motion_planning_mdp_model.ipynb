{
 "cells": [
  {
   "cell_type": "code",
   "execution_count": 1,
   "metadata": {},
   "outputs": [],
   "source": [
    "import numpy as np\n",
    "import constants as ct\n",
    "\n",
    "from planning_utils import create_grid, prune_path\n",
    "\n",
    "import matplotlib.pyplot as plt\n",
    "from mpl_toolkits.mplot3d import Axes3D\n",
    "\n",
    "%matplotlib inline"
   ]
  },
  {
   "cell_type": "code",
   "execution_count": 2,
   "metadata": {},
   "outputs": [],
   "source": [
    "def plot_final_grid(grid, path, pruned_path, start, goal):\n",
    "    fig = plt.figure(figsize=(20, 20))\n",
    "\n",
    "    plt.imshow(grid, cmap='Greys', origin='lower')\n",
    "\n",
    "    for idx in range(len(pruned_path) - 1):\n",
    "       plt.plot([pruned_path[idx][1], pruned_path[idx + 1][1]], [pruned_path[idx][0], pruned_path[idx + 1][0]], 'black' , alpha=0.5, linewidth=10)\n",
    "\n",
    "    for point in path:\n",
    "       plt.scatter(point[1], point[0], c='yellow', s=200)\n",
    "\n",
    "    for point in pruned_path:\n",
    "       plt.scatter(point[1], point[0], c='red', s=400)\n",
    "    \n",
    "    plt.scatter(start[1], start[0], c='blue', s=400)\n",
    "    plt.scatter(goal[1], goal[0], c='blue', s=400)\n",
    "    \n",
    "    plt.xlabel('NORTH')\n",
    "    plt.ylabel('EAST')\n",
    "\n",
    "    plt.show()\n"
   ]
  },
  {
   "cell_type": "code",
   "execution_count": 3,
   "metadata": {},
   "outputs": [],
   "source": [
    "# TARGET_ALTITUDE = 5\n",
    "# SAFETY_DISTANCE = 5\n",
    "# source = (10, 700)\n",
    "# target = (800, 150)\n",
    "# terminal_states = [target]\n",
    "# delta = 10\n",
    "\n",
    "# # Read in obstacle map\n",
    "# data = np.loadtxt(ct.COLLIDERS_FILE, delimiter=',', dtype='Float64', skiprows=2)\n",
    "# grid, north_offset, east_offset = create_grid(data, TARGET_ALTITUDE, SAFETY_DISTANCE)\n",
    "\n",
    "# # Transform grid to MDP representation\n",
    "# grid[grid == 1] = None\n",
    "# grid[grid == 0] = -0.02\n",
    "# grid[target] = 1\n",
    "# grid"
   ]
  },
  {
   "cell_type": "code",
   "execution_count": 4,
   "metadata": {},
   "outputs": [
    {
     "data": {
      "text/plain": [
       "array([[-0.01, -0.01, -0.01, -0.01],\n",
       "       [-0.01,   nan, -0.01, -1.  ],\n",
       "       [-0.01, -0.01, -0.01,  1.  ]])"
      ]
     },
     "execution_count": 4,
     "metadata": {},
     "output_type": "execute_result"
    }
   ],
   "source": [
    "grid = np.full((3, 4), -0.01)\n",
    "terminal_states = [(2, 3), (1, 3)]\n",
    "source = (0, 0)\n",
    "target = terminal_states[0]\n",
    "grid[1, 1] = None\n",
    "grid[terminal_states[0]] = 1\n",
    "grid[terminal_states[1]] = -1\n",
    "grid"
   ]
  },
  {
   "cell_type": "code",
   "execution_count": 5,
   "metadata": {},
   "outputs": [
    {
     "name": "stdout",
     "output_type": "stream",
     "text": [
      "States:\n",
      " {(0, 1), (1, 2), (0, 0), (1, 3), (2, 1), (2, 0), (2, 3), (2, 2), (1, 0), (0, 2), (0, 3)} 11\n",
      "Rewards:\n",
      " {(0, 0): -0.01, (0, 1): -0.01, (0, 2): -0.01, (0, 3): -0.01, (1, 0): -0.01, (1, 1): nan, (1, 2): -0.01, (1, 3): -1.0, (2, 0): -0.01, (2, 1): -0.01, (2, 2): -0.01, (2, 3): 1.0} 12\n"
     ]
    }
   ],
   "source": [
    "# Extract states, rewards from grid\n",
    "states = set()\n",
    "rewards = dict()\n",
    "optimal_policy = dict()\n",
    "\n",
    "numRows, numCols = grid.shape\n",
    "for rowNum in range(numRows):\n",
    "    for colNum in range(numCols):\n",
    "        rewards[rowNum, colNum] = grid[rowNum, colNum]\n",
    "        if not np.isnan(grid[rowNum, colNum]):\n",
    "                    states.add((rowNum, colNum))\n",
    "                \n",
    "print('States:\\n', states, len(states))\n",
    "print('Rewards:\\n', rewards, len(rewards))"
   ]
  },
  {
   "cell_type": "code",
   "execution_count": 6,
   "metadata": {},
   "outputs": [],
   "source": [
    "# (0, 1) -> next col, (0, -1) -> prev col, (-1, 0) -> prev row, (1, 0) -> next row\n",
    "possible_actions = [(0, 1), (0, -1), (-1, 0), (1, 0)]\n",
    "\n",
    "def valid_actions(state):\n",
    "    actions = []\n",
    "    for action in possible_actions:\n",
    "        new_state = (state[0] + action[0], state[1] + action[1])\n",
    "        if new_state in states:\n",
    "            actions.append(action)\n",
    "    return actions\n",
    "\n",
    "def transition(state, action):\n",
    "    return [ \\\n",
    "        (0.8 if valid_action == action else 0.2 / 3.0, \\\n",
    "         (state[0] + valid_action[0], state[1] + valid_action[1]) \\\n",
    "        ) for valid_action in valid_actions(state)]"
   ]
  },
  {
   "cell_type": "code",
   "execution_count": 7,
   "metadata": {},
   "outputs": [],
   "source": [
    "def value_iteration(discount_factor=0.9, epsilon=0.001):\n",
    "    utilities = np.zeros((numRows, numCols))\n",
    "    itr = 0\n",
    "    while True:\n",
    "        itr += 1\n",
    "        prev_utilities = utilities.copy()\n",
    "        delta = 0.0\n",
    "        for state in states:\n",
    "            utility_row_sums = [sum([prob * prev_utilities[new_state] \\\n",
    "                                     for prob, new_state in transition(state, action)]) \\\n",
    "                                for action in valid_actions(state)]\n",
    "            utilities[state] = rewards[state] + discount_factor * max(utility_row_sums)\n",
    "            \n",
    "        delta = max(delta, abs(utilities[state] - prev_utilities[state]))\n",
    "        print(itr, delta, epsilon * (1 - discount_factor) / discount_factor)\n",
    "\n",
    "        if delta < epsilon * (1 - discount_factor) / discount_factor:\n",
    "            return utilities"
   ]
  },
  {
   "cell_type": "code",
   "execution_count": 8,
   "metadata": {},
   "outputs": [
    {
     "name": "stdout",
     "output_type": "stream",
     "text": [
      "1 0.01 0.00011111111111111109\n",
      "2 0.0672 0.00011111111111111109\n",
      "3 0.037079999999999995 0.00011111111111111109\n",
      "4 0.013264560000000009 0.00011111111111111109\n",
      "5 0.2895831648 0.00011111111111111109\n",
      "6 0.024726117023999933 0.00011111111111111109\n",
      "7 0.24160739989247998 0.00011111111111111109\n",
      "8 0.018393420060518362 0.00011111111111111109\n",
      "9 0.16618355823664754 0.00011111111111111109\n",
      "10 0.012412572149673728 0.00011111111111111109\n",
      "11 0.11047146094824478 0.00011111111111111109\n",
      "12 0.008224304457759124 0.00011111111111111109\n",
      "13 0.07295148651539118 0.00011111111111111109\n",
      "14 0.005426273332033382 0.00011111111111111109\n",
      "15 0.04809718245296213 0.00011111111111111109\n",
      "16 0.0035768560014952655 0.00011111111111111109\n",
      "17 0.03169935825967951 0.00011111111111111109\n",
      "18 0.0023572929616435534 0.00011111111111111109\n",
      "19 0.020890439609834832 0.00011111111111111109\n",
      "20 0.0015534833133979964 0.00011111111111111109\n",
      "21 0.013766937868172402 0.00011111111111111109\n",
      "22 0.0010237536889371457 0.00011111111111111109\n",
      "23 0.009072469788376947 0.00011111111111111109\n",
      "24 0.0006746576749526723 0.00011111111111111109\n",
      "25 0.005978790863585326 0.00011111111111111109\n",
      "26 0.00044460183920680407 0.00011111111111111109\n",
      "27 0.003940044422317213 0.00011111111111111109\n",
      "28 0.00029299418560768675 0.00011111111111111109\n",
      "29 0.0025965031756939316 0.00011111111111111109\n",
      "30 0.0001930842011864664 0.00011111111111111109\n",
      "31 0.0017111047398110646 0.00011111111111111109\n",
      "32 0.00012724316865786456 0.00011111111111111109\n",
      "33 0.0011276240494487721 0.00011111111111111109\n",
      "34 8.385369623331584e-05 0.00011111111111111109\n"
     ]
    },
    {
     "data": {
      "text/plain": [
       "array([[0.66669515, 0.87303623, 1.17191106, 0.88678246],\n",
       "       [0.800742  , 0.        , 1.4947927 , 0.89582666],\n",
       "       [1.07135698, 1.43507232, 1.9187237 , 2.43453548]])"
      ]
     },
     "execution_count": 8,
     "metadata": {},
     "output_type": "execute_result"
    }
   ],
   "source": [
    "final_utilities = value_iteration()\n",
    "final_utilities"
   ]
  },
  {
   "cell_type": "code",
   "execution_count": 9,
   "metadata": {},
   "outputs": [
    {
     "data": {
      "text/plain": [
       "{(0, 1): (0, 1),\n",
       " (1, 2): (1, 0),\n",
       " (0, 0): (0, 1),\n",
       " (2, 1): (0, 1),\n",
       " (2, 0): (0, 1),\n",
       " (2, 2): (0, 1),\n",
       " (1, 0): (1, 0),\n",
       " (0, 2): (1, 0),\n",
       " (0, 3): (0, -1)}"
      ]
     },
     "execution_count": 9,
     "metadata": {},
     "output_type": "execute_result"
    }
   ],
   "source": [
    "def get_state_action_utility(action, state):\n",
    "    return sum([prob * final_utilities[new_state] for prob, new_state in transition(state, action)])\n",
    "\n",
    "for state in states:\n",
    "    if state in terminal_states:\n",
    "        continue\n",
    "    valid_actions_for_state = valid_actions(state)\n",
    "    state_action_utils = [get_state_action_utility(action, state) for action in valid_actions_for_state]\n",
    "    max_action_util_index = state_action_utils.index(max(state_action_utils))\n",
    "    optimal_policy[state] = valid_actions_for_state[max_action_util_index]\n",
    "    \n",
    "# action -> meaning: (0, 1) -> next col, (0, -1) -> prev col, (-1, 0) -> prev row, (1, 0) -> next row\n",
    "# state, action pairs\n",
    "optimal_policy"
   ]
  },
  {
   "cell_type": "code",
   "execution_count": 10,
   "metadata": {},
   "outputs": [
    {
     "name": "stdout",
     "output_type": "stream",
     "text": [
      "[(0, 0), (0, 1), (0, 2), (1, 2), (2, 2), (2, 3)]\n"
     ]
    },
    {
     "data": {
      "text/plain": [
       "[(0, 0), (0, 1), (0, 2), (1, 2), (2, 2), (2, 3)]"
      ]
     },
     "execution_count": 10,
     "metadata": {},
     "output_type": "execute_result"
    }
   ],
   "source": [
    "curr_state = source\n",
    "path = [curr_state]\n",
    "while curr_state != target:\n",
    "    action = optimal_policy[curr_state]\n",
    "    curr_state = (curr_state[0] + action[0], curr_state[1] + action[1])\n",
    "    \n",
    "    path.append(curr_state)\n",
    "\n",
    "print(path)\n",
    "\n",
    "# Transform grid back to original rep\n",
    "grid[np.isnan(grid)] = 1\n",
    "grid[grid == -0.02] = 0\n",
    "grid[terminal_states[0]] = 0\n",
    "grid[terminal_states[1]] = 1\n",
    "pruned_path = prune_path(path, grid)\n",
    "pruned_path"
   ]
  },
  {
   "cell_type": "code",
   "execution_count": 11,
   "metadata": {},
   "outputs": [
    {
     "data": {
      "image/png": "[encoded data removed]",
      "text/plain": [
       "<matplotlib.figure.Figure at 0x7f9d098b0ac8>"
      ]
     },
     "metadata": {
      "needs_background": "light"
     },
     "output_type": "display_data"
    }
   ],
   "source": [
    "plot_final_grid(grid, path, pruned_path, source, target)"
   ]
  },
  {
   "cell_type": "code",
   "execution_count": 12,
   "metadata": {},
   "outputs": [
    {
     "data": {
      "text/plain": [
       "(0, 1)"
      ]
     },
     "execution_count": 12,
     "metadata": {},
     "output_type": "execute_result"
    }
   ],
   "source": [
    "optimal_policy[0, 0]"
   ]
  }
 ],
 "metadata": {
  "kernelspec": {
   "display_name": "Python 3",
   "language": "python",
   "name": "python3"
  },
  "language_info": {
   "codemirror_mode": {
    "name": "ipython",
    "version": 3
   },
   "file_extension": ".py",
   "mimetype": "text/x-python",
   "name": "python",
   "nbconvert_exporter": "python",
   "pygments_lexer": "ipython3",
   "version": "3.6.3"
  }
 },
 "nbformat": 4,
 "nbformat_minor": 1
}
