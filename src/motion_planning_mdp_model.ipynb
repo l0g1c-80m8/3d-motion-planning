{
 "cells": [
  {
   "cell_type": "code",
   "execution_count": 1,
   "metadata": {},
   "outputs": [],
   "source": [
    "import numpy as np\n",
    "import constants as ct\n",
    "\n",
    "from planning_utils import create_grid, prune_path\n",
    "\n",
    "import matplotlib.pyplot as plt\n",
    "from mpl_toolkits.mplot3d import Axes3D\n",
    "\n",
    "%matplotlib inline"
   ]
  },
  {
   "cell_type": "code",
   "execution_count": 2,
   "metadata": {},
   "outputs": [],
   "source": [
    "def plot_final_grid(grid, path, pruned_path, start, goal):\n",
    "    fig = plt.figure(figsize=(20, 20))\n",
    "\n",
    "    plt.imshow(grid, cmap='Greys', origin='lower')\n",
    "\n",
    "    for idx in range(len(pruned_path) - 1):\n",
    "       plt.plot([pruned_path[idx][1], pruned_path[idx + 1][1]], [pruned_path[idx][0], pruned_path[idx + 1][0]], 'black' , alpha=0.5, linewidth=10)\n",
    "\n",
    "    for point in path:\n",
    "       plt.scatter(point[1], point[0], c='yellow', s=40)\n",
    "\n",
    "    for point in pruned_path:\n",
    "       plt.scatter(point[1], point[0], c='red', s=400)\n",
    "    \n",
    "    plt.scatter(start[1], start[0], c='blue', s=400)\n",
    "    plt.scatter(goal[1], goal[0], c='blue', s=400)\n",
    "    \n",
    "    plt.xlabel('NORTH')\n",
    "    plt.ylabel('EAST')\n",
    "\n",
    "    plt.show()\n"
   ]
  },
  {
   "cell_type": "code",
   "execution_count": 3,
   "metadata": {},
   "outputs": [],
   "source": [
    "# TARGET_ALTITUDE = 5\n",
    "# SAFETY_DISTANCE = 5\n",
    "# source = (10, 700)\n",
    "# target = (800, 150)\n",
    "# terminal_states = [target]\n",
    "# delta = 10\n",
    "\n",
    "# # Read in obstacle map\n",
    "# data = np.loadtxt(ct.COLLIDERS_FILE, delimiter=',', dtype='Float64', skiprows=2)\n",
    "# grid, north_offset, east_offset = create_grid(data, TARGET_ALTITUDE, SAFETY_DISTANCE)\n",
    "\n",
    "# # Transform grid to MDP representation\n",
    "# grid[grid == 1] = None\n",
    "# grid[grid == 0] = -0.02\n",
    "# grid[target] = 1\n",
    "# grid"
   ]
  },
  {
   "cell_type": "code",
   "execution_count": 4,
   "metadata": {},
   "outputs": [
    {
     "data": {
      "text/plain": [
       "array([[-0.02, -0.02, -0.02, -0.02],\n",
       "       [-0.02,   nan, -0.02, -1.  ],\n",
       "       [-0.02, -0.02, -0.02,  1.  ]])"
      ]
     },
     "execution_count": 4,
     "metadata": {},
     "output_type": "execute_result"
    }
   ],
   "source": [
    "grid = np.full((3, 4), -0.02)\n",
    "terminal_states = [(2, 3), (1, 3)]\n",
    "source = (0, 0)\n",
    "target = terminal_states[0]\n",
    "grid[1, 1] = None\n",
    "grid[terminal_states[0]] = 1\n",
    "grid[terminal_states[1]] = -1\n",
    "grid"
   ]
  },
  {
   "cell_type": "code",
   "execution_count": 5,
   "metadata": {},
   "outputs": [
    {
     "name": "stdout",
     "output_type": "stream",
     "text": [
      "States:\n",
      " {(0, 1), (1, 2), (0, 0), (1, 3), (2, 1), (2, 0), (2, 3), (2, 2), (1, 0), (0, 2), (0, 3)} 11\n",
      "Rewards:\n",
      " {(0, 0): -0.02, (0, 1): -0.02, (0, 2): -0.02, (0, 3): -0.02, (1, 0): -0.02, (1, 1): nan, (1, 2): -0.02, (1, 3): -1.0, (2, 0): -0.02, (2, 1): -0.02, (2, 2): -0.02, (2, 3): 1.0} 12\n"
     ]
    }
   ],
   "source": [
    "# Extract states, rewards from grid\n",
    "states = set()\n",
    "rewards = dict()\n",
    "optimal_policy = dict()\n",
    "\n",
    "numRows, numCols = grid.shape\n",
    "for rowNum in range(numRows):\n",
    "    for colNum in range(numCols):\n",
    "        rewards[rowNum, colNum] = grid[rowNum, colNum]\n",
    "        if not np.isnan(grid[rowNum, colNum]):\n",
    "                    states.add((rowNum, colNum))\n",
    "                \n",
    "print('States:\\n', states, len(states))\n",
    "print('Rewards:\\n', rewards, len(rewards))"
   ]
  },
  {
   "cell_type": "code",
   "execution_count": 6,
   "metadata": {},
   "outputs": [],
   "source": [
    "# (0, 1) -> next col, (0, -1) -> prev col, (-1, 0) -> prev row, (1, 0) -> next row\n",
    "possible_actions = [(0, 1), (0, -1), (-1, 0), (1, 0)]\n",
    "\n",
    "def valid_actions(state):\n",
    "    actions = []\n",
    "    for action in possible_actions:\n",
    "        new_state = (state[0] + action[0], state[1] + action[1])\n",
    "        if new_state in states:\n",
    "            actions.append(action)\n",
    "    return actions\n",
    "\n",
    "def transition(state, action):\n",
    "    return [ \\\n",
    "        (0.8 if valid_action == action else 0.2 / 3.0, \\\n",
    "         (state[0] + valid_action[0], state[1] + valid_action[1]) \\\n",
    "        ) for valid_action in valid_actions(state)]"
   ]
  },
  {
   "cell_type": "code",
   "execution_count": 7,
   "metadata": {},
   "outputs": [],
   "source": [
    "def value_iteration(discount_factor=0.9, epsilon=0.001):\n",
    "    utilities = np.zeros((numRows, numCols))\n",
    "    itr = 0\n",
    "    while True:\n",
    "        itr += 1\n",
    "        prev_utilities = utilities.copy()\n",
    "        delta = 0.0\n",
    "        for state in states:\n",
    "            utility_row_sums = [sum([prob * prev_utilities[new_state] \\\n",
    "                                     for prob, new_state in transition(state, action)]) \\\n",
    "                                for action in valid_actions(state)]\n",
    "            utilities[state] = rewards[state] + discount_factor * max(utility_row_sums)\n",
    "            \n",
    "        delta = max(delta, abs(utilities[state] - prev_utilities[state]))\n",
    "        print(itr, delta, epsilon * (1 - discount_factor) / discount_factor)\n",
    "\n",
    "        if delta < epsilon * (1 - discount_factor) / discount_factor:\n",
    "            return utilities"
   ]
  },
  {
   "cell_type": "code",
   "execution_count": 8,
   "metadata": {},
   "outputs": [
    {
     "name": "stdout",
     "output_type": "stream",
     "text": [
      "1 0.02 0.00011111111111111109\n",
      "2 0.07440000000000001 0.00011111111111111109\n",
      "3 0.030960000000000015 0.00011111111111111109\n",
      "4 0.01832112000000001 0.00011111111111111109\n",
      "5 0.28824024960000016 0.00011111111111111109\n",
      "6 0.028069789248000104 0.00011111111111111109\n",
      "7 0.24101208861696002 0.00011111111111111109\n",
      "8 0.020606214595276784 0.00011111111111111109\n",
      "9 0.16585105805225198 0.00011111111111111109\n",
      "10 0.013871644475725309 0.00011111111111111109\n",
      "11 0.110257728579924 0.00011111111111111109\n",
      "12 0.009186411934450578 0.00011111111111111109\n",
      "13 0.07281297335005232 0.00011111111111111109\n",
      "14 0.00606039940179004 0.00011111111111111109\n",
      "15 0.04800627698288007 0.00011111111111111109\n",
      "16 0.003994761049812556 0.00011111111111111109\n",
      "17 0.031639505996327255 0.00011111111111111109\n",
      "18 0.0026326958354851993 0.00011111111111111109\n",
      "19 0.02085100463026579 0.00011111111111111109\n",
      "20 0.0017349750602904113 0.00011111111111111109\n",
      "21 0.01374095120657437 0.00011111111111111109\n",
      "22 0.001143357429820191 0.00011111111111111109\n",
      "23 0.009055344648635888 0.00011111111111111109\n",
      "24 0.0007534769671738717 0.00011111111111111109\n",
      "25 0.005967505359369629 0.00011111111111111109\n",
      "26 0.0004965440311618385 0.00011111111111111109\n",
      "27 0.003932607238619434 0.00011111111111111109\n",
      "28 0.0003272242731308106 0.00011111111111111109\n",
      "29 0.002591602045924346 0.00011111111111111109\n",
      "30 0.00021564194941681158 0.00011111111111111109\n",
      "31 0.0017078748781027553 0.00011111111111111109\n",
      "32 0.00014210880417730998 0.00011111111111111109\n",
      "33 0.0011254955592195914 0.00011111111111111109\n",
      "34 9.36502023878294e-05 0.00011111111111111109\n"
     ]
    },
    {
     "data": {
      "text/plain": [
       "array([[0.62384606, 0.83070538, 1.13057592, 0.84570225],\n",
       "       [0.76110156, 0.        , 1.45821104, 0.87382154],\n",
       "       [1.03375878, 1.40003507, 1.88708111, 2.41043382]])"
      ]
     },
     "execution_count": 8,
     "metadata": {},
     "output_type": "execute_result"
    }
   ],
   "source": [
    "final_utilities = value_iteration()\n",
    "final_utilities"
   ]
  },
  {
   "cell_type": "code",
   "execution_count": 9,
   "metadata": {},
   "outputs": [
    {
     "data": {
      "text/plain": [
       "{(0, 1): (0, 1),\n",
       " (1, 2): (1, 0),\n",
       " (0, 0): (0, 1),\n",
       " (2, 1): (0, 1),\n",
       " (2, 0): (0, 1),\n",
       " (2, 2): (0, 1),\n",
       " (1, 0): (1, 0),\n",
       " (0, 2): (1, 0),\n",
       " (0, 3): (0, -1)}"
      ]
     },
     "execution_count": 9,
     "metadata": {},
     "output_type": "execute_result"
    }
   ],
   "source": [
    "def get_state_action_utility(action, state):\n",
    "    return sum([prob * final_utilities[new_state] for prob, new_state in transition(state, action)])\n",
    "\n",
    "for state in states:\n",
    "    if state in terminal_states:\n",
    "        continue\n",
    "    valid_actions_for_state = valid_actions(state)\n",
    "    state_action_utils = [get_state_action_utility(action, state) for action in valid_actions_for_state]\n",
    "    max_action_util_index = state_action_utils.index(max(state_action_utils))\n",
    "    optimal_policy[state] = valid_actions_for_state[max_action_util_index]\n",
    "    \n",
    "# action -> meaning: (0, 1) -> next col, (0, -1) -> prev col, (-1, 0) -> prev row, (1, 0) -> next row\n",
    "# state, action pairs\n",
    "optimal_policy"
   ]
  },
  {
   "cell_type": "code",
   "execution_count": 15,
   "metadata": {},
   "outputs": [
    {
     "name": "stdout",
     "output_type": "stream",
     "text": [
      "[(0, 0), (0, 1), (0, 2), (1, 2), (2, 2), (2, 3)]\n"
     ]
    },
    {
     "data": {
      "text/plain": [
       "[(0, 0), (0, 2), (2, 3)]"
      ]
     },
     "execution_count": 15,
     "metadata": {},
     "output_type": "execute_result"
    }
   ],
   "source": [
    "curr_state = source\n",
    "path = [curr_state]\n",
    "while curr_state != target:\n",
    "    action = optimal_policy[curr_state]\n",
    "    curr_state = (curr_state[0] + action[0], curr_state[1] + action[1])\n",
    "    \n",
    "    path.append(curr_state)\n",
    "\n",
    "print(path)\n",
    "\n",
    "# Transform grid back to original rep\n",
    "grid[grid == np.isnan(grid)] = 1\n",
    "grid[grid == -0.02] = 0\n",
    "grid[terminal_states[0]] = 0\n",
    "grid[terminal_states[1]] = 0\n",
    "pruned_path = prune_path(path, grid)\n",
    "pruned_path"
   ]
  },
  {
   "cell_type": "code",
   "execution_count": 11,
   "metadata": {},
   "outputs": [
    {
     "data": {
      "image/png": "[encoded data removed]",
      "text/plain": [
       "<matplotlib.figure.Figure at 0x7fc8cb530ba8>"
      ]
     },
     "metadata": {
      "needs_background": "light"
     },
     "output_type": "display_data"
    }
   ],
   "source": [
    "plot_final_grid(grid, path, pruned_path, source, target)"
   ]
  },
  {
   "cell_type": "code",
   "execution_count": 16,
   "metadata": {},
   "outputs": [
    {
     "data": {
      "text/plain": [
       "array([[ 0.,  0.,  0.,  0.],\n",
       "       [ 0., nan,  0.,  0.],\n",
       "       [ 0.,  0.,  0.,  0.]])"
      ]
     },
     "execution_count": 16,
     "metadata": {},
     "output_type": "execute_result"
    }
   ],
   "source": [
    "grid"
   ]
  }
 ],
 "metadata": {
  "kernelspec": {
   "display_name": "Python 3",
   "language": "python",
   "name": "python3"
  },
  "language_info": {
   "codemirror_mode": {
    "name": "ipython",
    "version": 3
   },
   "file_extension": ".py",
   "mimetype": "text/x-python",
   "name": "python",
   "nbconvert_exporter": "python",
   "pygments_lexer": "ipython3",
   "version": "3.6.3"
  }
 },
 "nbformat": 4,
 "nbformat_minor": 1
}
